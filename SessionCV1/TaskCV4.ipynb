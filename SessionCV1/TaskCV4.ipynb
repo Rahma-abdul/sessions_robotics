{
 "cells": [
  {
   "cell_type": "code",
   "execution_count": 25,
   "id": "59f94f77-a6b8-4607-9722-d91b0e8fb0ba",
   "metadata": {},
   "outputs": [
    {
     "name": "stdout",
     "output_type": "stream",
     "text": [
      "Point 1: (104, 67)\n",
      "Point 2: (211, 236)\n",
      "Rectangle drawn!\n"
     ]
    }
   ],
   "source": [
    "import cv2\n",
    "import numpy as np\n",
    "import matplotlib.pyplot as plt\n",
    "plt.rcParams['figure.figsize'] = [10, 3]\n",
    "point1 = None\n",
    "point2 = None\n",
    "segment = None\n",
    "\n",
    "def displayImage(img):\n",
    "    new_img= cv2.cvtColor(img, cv2.COLOR_BGR2RGB)\n",
    "    plt.imshow(new_img)\n",
    "    plt.show()\n",
    "    \n",
    "def recFunction(event,x,y,flags,param):\n",
    "    global point1, point2, segment\n",
    "    if event == cv2.EVENT_LBUTTONDOWN:\n",
    "        if point1 is None:\n",
    "            point1 = (x,y)\n",
    "            print(f\"Point 1: {point1}\")\n",
    "            \n",
    "        elif point2 is None:\n",
    "            point2 = (x,y)\n",
    "            print(f\"Point 2: {point2}\")\n",
    "             \n",
    "            \n",
    "            minY= min(point1[1],point2[1])\n",
    "            maxY= max(point1[1],point2[1])\n",
    "\n",
    "            minX=min(point1[0],point2[0])\n",
    "            maxX=max(point1[0],point2[0])\n",
    "            cv2.rectangle(img, (minX, minY), (maxX, maxY), (0,0,255), 2)\n",
    "            print(\"Rectangle drawn!\")\n",
    "        \n",
    "\n",
    "img= cv2.imread('./pics/img1.jpg')\n",
    "#cv2.namedWindow('Image')\n",
    "cv2.imshow(\"Image\", img)\n",
    "cv2.setMouseCallback('Image',recFunction)\n",
    "\n",
    "\n",
    "while(1):\n",
    "    cv2.imshow('Image',img)\n",
    "   \n",
    "    key = cv2.waitKey(1)\n",
    "    if key == 27:\n",
    "        break\n",
    "cv2.destroyAllWindows()"
   ]
  },
  {
   "cell_type": "code",
   "execution_count": null,
   "id": "e0f081b1-5593-417c-8196-019a1f571aa6",
   "metadata": {},
   "outputs": [],
   "source": []
  }
 ],
 "metadata": {
  "kernelspec": {
   "display_name": "Python 3 (ipykernel)",
   "language": "python",
   "name": "python3"
  },
  "language_info": {
   "codemirror_mode": {
    "name": "ipython",
    "version": 3
   },
   "file_extension": ".py",
   "mimetype": "text/x-python",
   "name": "python",
   "nbconvert_exporter": "python",
   "pygments_lexer": "ipython3",
   "version": "3.10.6"
  }
 },
 "nbformat": 4,
 "nbformat_minor": 5
}
