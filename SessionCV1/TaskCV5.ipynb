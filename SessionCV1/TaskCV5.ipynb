{
 "cells": [
  {
   "cell_type": "code",
   "execution_count": 9,
   "id": "dc29c482-13fc-43ab-b026-6499a1912500",
   "metadata": {},
   "outputs": [],
   "source": [
    "import cv2\n",
    "import numpy as np\n",
    "import matplotlib.pyplot as plt\n",
    "plt.rcParams['figure.figsize'] = [10, 3]\n",
    "def displayImage(img):\n",
    "    new_img= cv2.cvtColor(img, cv2.COLOR_BGR2RGB)\n",
    "    plt.imshow(new_img)\n",
    "    plt.show()\n",
    "    \n",
    "img= cv2.imread('./pics/img1.jpg')\n",
    "cv2.imshow(\"Original\", img)\n",
    "rot =cv2.rotate(img, cv2.ROTATE_90_CLOCKWISE)\n",
    "cv2.imshow(\"Rotated\", rot)\n",
    "ref = cv2.flip(rot, 1)\n",
    "cv2.imshow(\"Reflected\", ref)\n",
    "cv2.waitKey(0)\n",
    "cv2.destroyAllWindows()"
   ]
  }
 ],
 "metadata": {
  "kernelspec": {
   "display_name": "Python 3 (ipykernel)",
   "language": "python",
   "name": "python3"
  },
  "language_info": {
   "codemirror_mode": {
    "name": "ipython",
    "version": 3
   },
   "file_extension": ".py",
   "mimetype": "text/x-python",
   "name": "python",
   "nbconvert_exporter": "python",
   "pygments_lexer": "ipython3",
   "version": "3.10.6"
  }
 },
 "nbformat": 4,
 "nbformat_minor": 5
}
