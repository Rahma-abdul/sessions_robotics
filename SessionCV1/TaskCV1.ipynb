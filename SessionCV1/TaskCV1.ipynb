{
 "cells": [
  {
   "cell_type": "code",
   "execution_count": 72,
   "id": "5991a7cb-214b-4fa9-b8a9-7cf8c3087585",
   "metadata": {},
   "outputs": [
    {
     "data": {
      "image/png": "[encoded data removed]",
      "text/plain": [
       "<Figure size 1000x300 with 1 Axes>"
      ]
     },
     "metadata": {},
     "output_type": "display_data"
    }
   ],
   "source": [
    "import cv2\n",
    "import numpy as np\n",
    "import matplotlib.pyplot as plt\n",
    "plt.rcParams['figure.figsize'] = [10, 3]\n",
    "def displayImage(img):\n",
    "    plt.imshow(img, cmap='gray')\n",
    "    plt.show()\n",
    "\n",
    "#binary_image= np.zeros((300,300), dtype=np.uint8)\n",
    "circle1= np.zeros((300,300), dtype=np.uint8)\n",
    "square1= np.zeros((300,300), dtype=np.uint8)\n",
    "square2= np.zeros((300,300), dtype=np.uint8)\n",
    "circle2= np.zeros((300,300), dtype=np.uint8)\n",
    "\n",
    "#circle1[100:200, 100:200]\n",
    "#circle2[100:200, 100:200]\n",
    "\n",
    "cv2.circle(circle1, (180,200), 50, 255, -1)\n",
    "cv2.circle(circle2, (130,150), 50, 255, -1)\n",
    "\n",
    "square1[130:200, 180:250] = 255\n",
    "square2[200:270, 110:180] = 255\n",
    "notsquare1 = cv2.bitwise_not(square1)\n",
    "notsquare2 = cv2.bitwise_not(square2)\n",
    "\n",
    "result1 = cv2.bitwise_and(notsquare1, circle1)\n",
    "result2 = cv2.bitwise_and(notsquare2, circle1)\n",
    "result3 = cv2.bitwise_and(result1, result2)\n",
    "result = cv2.bitwise_or(result3,circle2)\n",
    "displayImage(result)\n"
   ]
  },
  {
   "cell_type": "code",
   "execution_count": null,
   "id": "8ffde357-3328-4a48-954f-54b195e2a6b5",
   "metadata": {},
   "outputs": [],
   "source": []
  }
 ],
 "metadata": {
  "kernelspec": {
   "display_name": "Python 3 (ipykernel)",
   "language": "python",
   "name": "python3"
  },
  "language_info": {
   "codemirror_mode": {
    "name": "ipython",
    "version": 3
   },
   "file_extension": ".py",
   "mimetype": "text/x-python",
   "name": "python",
   "nbconvert_exporter": "python",
   "pygments_lexer": "ipython3",
   "version": "3.10.6"
  }
 },
 "nbformat": 4,
 "nbformat_minor": 5
}
